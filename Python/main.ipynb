{
 "cells": [
  {
   "cell_type": "markdown",
   "metadata": {},
   "source": [
    "# 1\n",
    "---"
   ]
  },
  {
   "cell_type": "markdown",
   "metadata": {},
   "source": [
    "1.1"
   ]
  },
  {
   "cell_type": "code",
   "execution_count": 7,
   "metadata": {},
   "outputs": [
    {
     "name": "stdout",
     "output_type": "stream",
     "text": [
      "True\n"
     ]
    }
   ],
   "source": [
    "a = 42\n",
    "b = 42.0\n",
    "c = 4_2\n",
    "d = 0b101010\n",
    "e = 0o52\n",
    "f = 0x2a\n",
    "g = int('42')\n",
    "h = ord('*')\n",
    "z = 0.42e+2\n",
    "v = 42e0\n",
    "\n",
    "print(a == b == c == d == e == f == g == h == z == v == 42)"
   ]
  },
  {
   "cell_type": "markdown",
   "metadata": {},
   "source": [
    "1.2"
   ]
  },
  {
   "cell_type": "code",
   "execution_count": 123,
   "metadata": {},
   "outputs": [
    {
     "name": "stdout",
     "output_type": "stream",
     "text": [
      "1.7976931348623157e+308\n",
      "inf\n"
     ]
    }
   ],
   "source": [
    "import sys\n",
    "\n",
    "print(sys.float_info.max)\n",
    "print(1.8e308)"
   ]
  },
  {
   "cell_type": "markdown",
   "metadata": {},
   "source": [
    "1.3"
   ]
  },
  {
   "cell_type": "code",
   "execution_count": 65,
   "metadata": {},
   "outputs": [
    {
     "name": "stdout",
     "output_type": "stream",
     "text": [
      "8 2\n"
     ]
    }
   ],
   "source": [
    "q, r = divmod(42, 5)\n",
    "print(q, r)"
   ]
  },
  {
   "cell_type": "markdown",
   "metadata": {},
   "source": [
    "1.4"
   ]
  },
  {
   "cell_type": "code",
   "execution_count": 66,
   "metadata": {},
   "outputs": [],
   "source": [
    "'''\n",
    "a = 10\n",
    "while a != 0:\n",
    "a -= 0.1\n",
    "'''\n",
    "\n",
    "a = 10\n",
    "while a > 0:\n",
    "    a -= 0.1"
   ]
  },
  {
   "cell_type": "markdown",
   "metadata": {},
   "source": [
    "1.5"
   ]
  },
  {
   "cell_type": "markdown",
   "metadata": {},
   "source": [
    "```python\n",
    "z = 1\n",
    "z <<= 40\n",
    "2 ** z\n",
    "```\n",
    "Силшком большое число (2 ** (2 ** 40))"
   ]
  },
  {
   "cell_type": "markdown",
   "metadata": {},
   "source": [
    "1.6"
   ]
  },
  {
   "cell_type": "markdown",
   "metadata": {},
   "source": [
    "```\n",
    "i = 0\n",
    "while i < 10:\n",
    "    print(i)\n",
    "    ++i\n",
    "```\n",
    "В питоне нет такой операции"
   ]
  },
  {
   "cell_type": "markdown",
   "metadata": {},
   "source": [
    "1.7"
   ]
  },
  {
   "cell_type": "markdown",
   "metadata": {},
   "source": [
    "`(True * 2 + False) * -True`\n",
    "В питоне True == 1, False == 0"
   ]
  },
  {
   "cell_type": "markdown",
   "metadata": {},
   "source": [
    "1.8"
   ]
  },
  {
   "cell_type": "markdown",
   "metadata": {},
   "source": [
    "```\n",
    "x = 5\n",
    "1 < x < 10\n",
    "```\n",
    "X пренадлежит отрезку (1,10), программа выдаст True\n",
    "\n",
    "```\n",
    "x = 5\n",
    "1 < (x < 10)\n",
    "```\n",
    "\n",
    "x < 10 становится True, после чего идёт сравнение `1 < 1`, которое выдает False"
   ]
  },
  {
   "cell_type": "markdown",
   "metadata": {},
   "source": [
    "# 2\n",
    "---"
   ]
  },
  {
   "cell_type": "markdown",
   "metadata": {},
   "source": [
    "2.1"
   ]
  },
  {
   "cell_type": "code",
   "execution_count": 8,
   "metadata": {},
   "outputs": [
    {
     "ename": "SyntaxError",
     "evalue": "invalid syntax (3554986870.py, line 1)",
     "output_type": "error",
     "traceback": [
      "\u001b[1;36m  Cell \u001b[1;32mIn[8], line 1\u001b[1;36m\u001b[0m\n\u001b[1;33m    if if\u001b[0m\n\u001b[1;37m       ^\u001b[0m\n\u001b[1;31mSyntaxError\u001b[0m\u001b[1;31m:\u001b[0m invalid syntax\n"
     ]
    }
   ],
   "source": [
    "if if\n",
    "    print(\"Hello\")"
   ]
  },
  {
   "cell_type": "markdown",
   "metadata": {},
   "source": [
    "2.2"
   ]
  },
  {
   "cell_type": "code",
   "execution_count": 7,
   "metadata": {},
   "outputs": [
    {
     "ename": "SyntaxError",
     "evalue": "cannot assign to literal here. Maybe you meant '==' instead of '='? (814398681.py, line 1)",
     "output_type": "error",
     "traceback": [
      "\u001b[1;36m  Cell \u001b[1;32mIn[7], line 1\u001b[1;36m\u001b[0m\n\u001b[1;33m    1 = 1\u001b[0m\n\u001b[1;37m    ^\u001b[0m\n\u001b[1;31mSyntaxError\u001b[0m\u001b[1;31m:\u001b[0m cannot assign to literal here. Maybe you meant '==' instead of '='?\n"
     ]
    }
   ],
   "source": [
    "1 = 1"
   ]
  },
  {
   "cell_type": "markdown",
   "metadata": {},
   "source": [
    "2.3"
   ]
  },
  {
   "cell_type": "code",
   "execution_count": 12,
   "metadata": {},
   "outputs": [
    {
     "ename": "NameError",
     "evalue": "name 'alpha' is not defined",
     "output_type": "error",
     "traceback": [
      "\u001b[1;31m---------------------------------------------------------------------------\u001b[0m",
      "\u001b[1;31mNameError\u001b[0m                                 Traceback (most recent call last)",
      "Cell \u001b[1;32mIn[12], line 1\u001b[0m\n\u001b[1;32m----> 1\u001b[0m \u001b[38;5;28;01mif\u001b[39;00m (\u001b[43malpha\u001b[49m \u001b[38;5;241m==\u001b[39m \u001b[38;5;241m1\u001b[39m):\n\u001b[0;32m      2\u001b[0m     \u001b[38;5;28mprint\u001b[39m (\u001b[38;5;28;01mTrue\u001b[39;00m)\n",
      "\u001b[1;31mNameError\u001b[0m: name 'alpha' is not defined"
     ]
    }
   ],
   "source": [
    "if (alpha == 1):\n",
    "    print (True)"
   ]
  },
  {
   "cell_type": "markdown",
   "metadata": {},
   "source": [
    "2.4"
   ]
  },
  {
   "cell_type": "code",
   "execution_count": 14,
   "metadata": {},
   "outputs": [
    {
     "ename": "SyntaxError",
     "evalue": "unterminated string literal (detected at line 1) (3218893697.py, line 1)",
     "output_type": "error",
     "traceback": [
      "\u001b[1;36m  Cell \u001b[1;32mIn[14], line 1\u001b[1;36m\u001b[0m\n\u001b[1;33m    'a\u001b[0m\n\u001b[1;37m    ^\u001b[0m\n\u001b[1;31mSyntaxError\u001b[0m\u001b[1;31m:\u001b[0m unterminated string literal (detected at line 1)\n"
     ]
    }
   ],
   "source": [
    "'a"
   ]
  },
  {
   "cell_type": "markdown",
   "metadata": {},
   "source": [
    "2.5"
   ]
  },
  {
   "cell_type": "code",
   "execution_count": 17,
   "metadata": {},
   "outputs": [
    {
     "ename": "TypeError",
     "evalue": "unsupported operand type(s) for +: 'int' and 'str'",
     "output_type": "error",
     "traceback": [
      "\u001b[1;31m---------------------------------------------------------------------------\u001b[0m",
      "\u001b[1;31mTypeError\u001b[0m                                 Traceback (most recent call last)",
      "Cell \u001b[1;32mIn[17], line 1\u001b[0m\n\u001b[1;32m----> 1\u001b[0m \u001b[38;5;28mprint\u001b[39m (\u001b[38;5;241;43m2\u001b[39;49m\u001b[43m \u001b[49m\u001b[38;5;241;43m+\u001b[39;49m\u001b[43m \u001b[49m\u001b[38;5;124;43m'\u001b[39;49m\u001b[38;5;124;43ma\u001b[39;49m\u001b[38;5;124;43m'\u001b[39;49m)\n",
      "\u001b[1;31mTypeError\u001b[0m: unsupported operand type(s) for +: 'int' and 'str'"
     ]
    }
   ],
   "source": [
    "print (2 + 'a')"
   ]
  },
  {
   "cell_type": "markdown",
   "metadata": {},
   "source": [
    "2.6"
   ]
  },
  {
   "cell_type": "code",
   "execution_count": 20,
   "metadata": {},
   "outputs": [
    {
     "ename": "IndentationError",
     "evalue": "expected an indented block after 'if' statement on line 1 (2519604163.py, line 2)",
     "output_type": "error",
     "traceback": [
      "\u001b[1;36m  Cell \u001b[1;32mIn[20], line 2\u001b[1;36m\u001b[0m\n\u001b[1;33m    a = 1\u001b[0m\n\u001b[1;37m    ^\u001b[0m\n\u001b[1;31mIndentationError\u001b[0m\u001b[1;31m:\u001b[0m expected an indented block after 'if' statement on line 1\n"
     ]
    }
   ],
   "source": [
    "if True:\n",
    "a = 1"
   ]
  },
  {
   "cell_type": "markdown",
   "metadata": {},
   "source": [
    "2.7"
   ]
  },
  {
   "cell_type": "code",
   "execution_count": 31,
   "metadata": {},
   "outputs": [
    {
     "ename": "IndentationError",
     "evalue": "unindent does not match any outer indentation level (<tokenize>, line 3)",
     "output_type": "error",
     "traceback": [
      "\u001b[1;36m  File \u001b[1;32m<tokenize>:3\u001b[1;36m\u001b[0m\n\u001b[1;33m    a = 1\u001b[0m\n\u001b[1;37m    ^\u001b[0m\n\u001b[1;31mIndentationError\u001b[0m\u001b[1;31m:\u001b[0m unindent does not match any outer indentation level\n"
     ]
    }
   ],
   "source": [
    "def func():\n",
    "\tprint(\"World\")\n",
    "    a = 1"
   ]
  },
  {
   "cell_type": "markdown",
   "metadata": {},
   "source": [
    "2.8"
   ]
  },
  {
   "cell_type": "code",
   "execution_count": 32,
   "metadata": {},
   "outputs": [
    {
     "ename": "ValueError",
     "evalue": "math domain error",
     "output_type": "error",
     "traceback": [
      "\u001b[1;31m---------------------------------------------------------------------------\u001b[0m",
      "\u001b[1;31mValueError\u001b[0m                                Traceback (most recent call last)",
      "Cell \u001b[1;32mIn[32], line 2\u001b[0m\n\u001b[0;32m      1\u001b[0m \u001b[38;5;28;01mimport\u001b[39;00m \u001b[38;5;21;01mmath\u001b[39;00m\n\u001b[1;32m----> 2\u001b[0m \u001b[43mmath\u001b[49m\u001b[38;5;241;43m.\u001b[39;49m\u001b[43msqrt\u001b[49m\u001b[43m(\u001b[49m\u001b[38;5;241;43m-\u001b[39;49m\u001b[38;5;241;43m1\u001b[39;49m\u001b[43m)\u001b[49m\n",
      "\u001b[1;31mValueError\u001b[0m: math domain error"
     ]
    }
   ],
   "source": [
    "import math\n",
    "math.sqrt(-1)"
   ]
  },
  {
   "cell_type": "markdown",
   "metadata": {},
   "source": [
    "2.9"
   ]
  },
  {
   "cell_type": "code",
   "execution_count": 43,
   "metadata": {},
   "outputs": [
    {
     "ename": "OverflowError",
     "evalue": "math range error",
     "output_type": "error",
     "traceback": [
      "\u001b[1;31m---------------------------------------------------------------------------\u001b[0m",
      "\u001b[1;31mOverflowError\u001b[0m                             Traceback (most recent call last)",
      "Cell \u001b[1;32mIn[43], line 3\u001b[0m\n\u001b[0;32m      1\u001b[0m \u001b[38;5;28;01mimport\u001b[39;00m \u001b[38;5;21;01mmath\u001b[39;00m\n\u001b[1;32m----> 3\u001b[0m \u001b[43mmath\u001b[49m\u001b[38;5;241;43m.\u001b[39;49m\u001b[43mexp\u001b[49m\u001b[43m(\u001b[49m\u001b[38;5;241;43m1000\u001b[39;49m\u001b[43m)\u001b[49m\n",
      "\u001b[1;31mOverflowError\u001b[0m: math range error"
     ]
    }
   ],
   "source": [
    "import math\n",
    "\n",
    "math.exp(1000)"
   ]
  },
  {
   "cell_type": "markdown",
   "metadata": {},
   "source": [
    "# 3\n",
    "---"
   ]
  },
  {
   "cell_type": "markdown",
   "metadata": {},
   "source": [
    "3.1"
   ]
  },
  {
   "cell_type": "code",
   "execution_count": 45,
   "metadata": {},
   "outputs": [
    {
     "name": "stdout",
     "output_type": "stream",
     "text": [
      "12\n"
     ]
    }
   ],
   "source": [
    "y = 1\n",
    "y = y + y\n",
    "x = y + y\n",
    "y = x + x\n",
    "x = x + y\n",
    "print(x)"
   ]
  },
  {
   "cell_type": "markdown",
   "metadata": {},
   "source": [
    "3.2"
   ]
  },
  {
   "cell_type": "code",
   "execution_count": 46,
   "metadata": {},
   "outputs": [
    {
     "name": "stdout",
     "output_type": "stream",
     "text": [
      "16\n"
     ]
    }
   ],
   "source": [
    "y = 1\n",
    "y = y + y\n",
    "y = y + y\n",
    "y = y + y\n",
    "y = y + y\n",
    "print(y)"
   ]
  },
  {
   "cell_type": "markdown",
   "metadata": {},
   "source": [
    "3.3"
   ]
  },
  {
   "cell_type": "code",
   "execution_count": 128,
   "metadata": {},
   "outputs": [
    {
     "name": "stdout",
     "output_type": "stream",
     "text": [
      "15\n"
     ]
    }
   ],
   "source": [
    "a = 1\n",
    "n = a + a\n",
    "n = n + n\n",
    "n = n + n\n",
    "print(n - a - (-n))"
   ]
  },
  {
   "cell_type": "markdown",
   "metadata": {},
   "source": [
    "3.4"
   ]
  },
  {
   "cell_type": "markdown",
   "metadata": {},
   "source": [
    "```\n",
    "def naive_mul(x, y):\n",
    "    r = 1;\n",
    "     for i in range(0, y - 1)\n",
    "     x = x + r;\n",
    "     end\n",
    "```"
   ]
  },
  {
   "cell_type": "code",
   "execution_count": 56,
   "metadata": {},
   "outputs": [
    {
     "name": "stdout",
     "output_type": "stream",
     "text": [
      "12\n"
     ]
    }
   ],
   "source": [
    "def naive_mul(x, y):\n",
    "    r = x\n",
    "    for i in range(0, y-1):\n",
    "        x += r\n",
    "    return x\n",
    "\n",
    "a = 3\n",
    "b = 4\n",
    "print(naive_mul(a, b))\n",
    "assert naive_mul(a, b) == a * b, f\"Ошибка при {a} * {b}\""
   ]
  },
  {
   "cell_type": "markdown",
   "metadata": {},
   "source": [
    "3.5"
   ]
  },
  {
   "cell_type": "code",
   "execution_count": 57,
   "metadata": {},
   "outputs": [
    {
     "name": "stdout",
     "output_type": "stream",
     "text": [
      "12\n"
     ]
    }
   ],
   "source": [
    "def fast_mul(x, y):\n",
    "    result = 0\n",
    "    while x > 0:\n",
    "        if x % 2 == 1:\n",
    "            result += y\n",
    "        x //= 2\n",
    "        y *= 2\n",
    "    return result\n",
    "\n",
    "a = 3\n",
    "b = 4\n",
    "print(naive_mul(a, b))\n",
    "assert naive_mul(a, b) == a * b, f\"Ошибка при {a} * {b}\""
   ]
  },
  {
   "cell_type": "markdown",
   "metadata": {},
   "source": [
    "3.6"
   ]
  },
  {
   "cell_type": "code",
   "execution_count": 59,
   "metadata": {},
   "outputs": [
    {
     "name": "stdout",
     "output_type": "stream",
     "text": [
      "12\n"
     ]
    }
   ],
   "source": [
    "def mul_bits(x, y, bits):\n",
    "    x &= (2 ** bits - 1)\n",
    "    y &= (2 ** bits - 1)\n",
    "    return x * y\n",
    "\n",
    "def mul16(x, y):\n",
    "    high_x, low_x = x >> 8, x & 0xFF\n",
    "    high_y, low_y = y >> 8, y & 0xFF\n",
    "    \n",
    "    p1 = mul_bits(low_x, low_y, 8) \n",
    "    p2 = mul_bits(low_x, high_y, 8)  \n",
    "    p3 = mul_bits(high_x, low_y, 8)  \n",
    "    p4 = mul_bits(high_x, high_y, 8) \n",
    "    \n",
    "    return p1 + ((p2 + p3) << 8) + (p4 << 16)\n",
    "\n",
    "a = 3\n",
    "b = 4\n",
    "print(mul16(a, b))\n",
    "assert mul16(a, b) == a * b, f\"Ошибка при {a} * {b}\""
   ]
  },
  {
   "cell_type": "markdown",
   "metadata": {},
   "source": [
    "3.8"
   ]
  },
  {
   "cell_type": "code",
   "execution_count": 60,
   "metadata": {},
   "outputs": [
    {
     "name": "stdout",
     "output_type": "stream",
     "text": [
      "12\n"
     ]
    }
   ],
   "source": [
    "def mul_bits(x, y, bits):\n",
    "    x &= (2 ** bits - 1)\n",
    "    y &= (2 ** bits - 1)\n",
    "    return x * y\n",
    "\n",
    "def mul16k(x, y):\n",
    "    high_x, low_x = x >> 8, x & 0xFF\n",
    "    high_y, low_y = y >> 8, y & 0xFF\n",
    "\n",
    "    p1 = mul_bits(low_x, low_y, 8)\n",
    "    p2 = mul_bits(high_x, high_y, 8)\n",
    "    p3 = mul_bits(low_x + high_x, low_y + high_y, 8) - p1 - p2\n",
    "\n",
    "    return p1 + (p3 << 8) + (p2 << 16)\n",
    "\n",
    "a = 3\n",
    "b = 4\n",
    "print(mul16k(a, b))\n",
    "assert mul16k(a, b) == a * b, f\"Ошибка при {a} * {b}\""
   ]
  },
  {
   "cell_type": "markdown",
   "metadata": {},
   "source": [
    "3.9"
   ]
  },
  {
   "cell_type": "code",
   "execution_count": null,
   "metadata": {},
   "outputs": [
    {
     "name": "stdout",
     "output_type": "stream",
     "text": [
      "def f(x):\n",
      "    result += x << 0\n",
      "    result += x << 1\n",
      "    result += x << 2\n",
      "    result += x << 3\n",
      "    return result\n"
     ]
    }
   ],
   "source": [
    "def fast_mul_gen(y):\n",
    "    code = [\"def f(x):\"]\n",
    "    shift = 0\n",
    "    while y > 0:\n",
    "        if y % 2 == 1:\n",
    "            code.append(f\"    result += x << {shift}\")\n",
    "        shift += 1\n",
    "        y //= 2\n",
    "    code.append(\"    return result\")\n",
    "    print(\"\\n\".join(code))\n",
    "\n",
    "fast_mul_gen(15)"
   ]
  },
  {
   "cell_type": "markdown",
   "metadata": {},
   "source": [
    "3.10"
   ]
  },
  {
   "cell_type": "code",
   "execution_count": 62,
   "metadata": {},
   "outputs": [
    {
     "name": "stdout",
     "output_type": "stream",
     "text": [
      "def f(x):\n",
      "    result = 1\n",
      "    result *= x << 0\n",
      "    result *= x << 2\n",
      "    return result\n"
     ]
    }
   ],
   "source": [
    "def fast_pow_gen(y):\n",
    "    code = [\"def f(x):\"]\n",
    "    code.append(\"    result = 1\")\n",
    "    shift = 0\n",
    "    while y > 0:\n",
    "        if y % 2 == 1:\n",
    "            code.append(f\"    result *= x << {shift}\")\n",
    "        shift += 1\n",
    "        y //= 2\n",
    "    code.append(\"    return result\")\n",
    "    print(\"\\n\".join(code))\n",
    "\n",
    "fast_pow_gen(5)"
   ]
  },
  {
   "cell_type": "markdown",
   "metadata": {},
   "source": [
    "# 4\n",
    "---"
   ]
  },
  {
   "cell_type": "markdown",
   "metadata": {},
   "source": [
    "4.1"
   ]
  },
  {
   "cell_type": "code",
   "execution_count": 8,
   "metadata": {},
   "outputs": [],
   "source": [
    "import math\n",
    "import tkinter as tk\n",
    "\n",
    "\n",
    "def draw(shader, width, height):\n",
    "    image = bytearray((0, 0, 0) * width * height)\n",
    "    for y in range(height):\n",
    "        for x in range(width):\n",
    "            pos = (width * y + x) * 3\n",
    "            color = shader(x / width, y / height)\n",
    "            normalized = [max(min(int(c * 255), 255), 0) for c in color]\n",
    "            image[pos:pos + 3] = normalized\n",
    "    header = bytes(f'P6\\n{width} {height}\\n255\\n', 'ascii')\n",
    "    return header + image\n",
    "\n",
    "def main(shader):\n",
    "    label = tk.Label()\n",
    "    img = tk.PhotoImage(data=draw(shader, 256, 256)).zoom(2, 2)\n",
    "    label.pack()\n",
    "    label.config(image=img)\n",
    "    tk.mainloop()\n",
    "\n",
    "def shader(x, y):\n",
    "    if (0.1 <= x <= 0.9 and 0.1 <= y <= 0.9):\n",
    "        return 0, 0, 0\n",
    "    return 1, 1, 1\n",
    "\n",
    "main(shader)"
   ]
  },
  {
   "cell_type": "markdown",
   "metadata": {},
   "source": [
    "4.2"
   ]
  },
  {
   "cell_type": "code",
   "execution_count": 9,
   "metadata": {},
   "outputs": [],
   "source": [
    "import math\n",
    "import tkinter as tk\n",
    "\n",
    "\n",
    "def draw(shader, width, height):\n",
    "    image = bytearray((0, 0, 0) * width * height)\n",
    "    for y in range(height):\n",
    "        for x in range(width):\n",
    "            pos = (width * y + x) * 3\n",
    "            color = shader(x / width, y / height)\n",
    "            normalized = [max(min(int(c * 255), 255), 0) for c in color]\n",
    "            image[pos:pos + 3] = normalized\n",
    "    header = bytes(f'P6\\n{width} {height}\\n255\\n', 'ascii')\n",
    "    return header + image\n",
    "\n",
    "def main(shader):\n",
    "    label = tk.Label()\n",
    "    img = tk.PhotoImage(data=draw(shader, 256, 256)).zoom(2, 2)\n",
    "    label.pack()\n",
    "    label.config(image=img)\n",
    "    tk.mainloop()\n",
    "\n",
    "def shader(x, y):\n",
    "    cx, cy = 0.4, 0.4\n",
    "    r = 0.5\n",
    "\n",
    "    dx = x - cx\n",
    "    dy = y - cy\n",
    "\n",
    "    return x - math.sqrt(dx**2 + dy**2) / r, y - math.sqrt(dx**2 + dy**2) / r, 0\n",
    "    \n",
    "        \n",
    "    \n",
    "    \n",
    "    \n",
    "\n",
    "main(shader)"
   ]
  },
  {
   "cell_type": "markdown",
   "metadata": {},
   "source": [
    "4.3"
   ]
  },
  {
   "cell_type": "code",
   "execution_count": 10,
   "metadata": {},
   "outputs": [],
   "source": [
    "import math\n",
    "import tkinter as tk\n",
    "\n",
    "\n",
    "def draw(shader, width, height):\n",
    "    image = bytearray((0, 0, 0) * width * height)\n",
    "    for y in range(height):\n",
    "        for x in range(width):\n",
    "            pos = (width * y + x) * 3\n",
    "            color = shader(x / width, y / height)\n",
    "            normalized = [max(min(int(c * 255), 255), 0) for c in color]\n",
    "            image[pos:pos + 3] = normalized\n",
    "    header = bytes(f'P6\\n{width} {height}\\n255\\n', 'ascii')\n",
    "    return header + image\n",
    "\n",
    "def main(shader):\n",
    "    label = tk.Label()\n",
    "    img = tk.PhotoImage(data=draw(shader, 256, 256)).zoom(2, 2)\n",
    "    label.pack()\n",
    "    label.config(image=img)\n",
    "    tk.mainloop()\n",
    "\n",
    "def shader(x, y):\n",
    "    cx, cy = 0.5, 0.5\n",
    "    r = 0.4\n",
    "    dx = x - cx\n",
    "    dy = y - cy\n",
    "\n",
    "    ex, ey = 0.6, 0.25\n",
    "    er = 0.075\n",
    "    dex = x - ex\n",
    "    dey = y - ey\n",
    "    \n",
    "    if dx**2 + dy**2 > r**2:\n",
    "        return 0, 0, 0\n",
    "    if dex*dex + dey*dey <= er*er:\n",
    "        return 0, 0, 0\n",
    "    if x > 0.5 and  y - x * 0.5 <= 0.25 and y + x * 0.5 >= 0.75 and dx**2 + dy**2 <= r**2:\n",
    "        return 0, 0, 0\n",
    "    return 1, 1, 0\n",
    "    \n",
    "\n",
    "main(shader)"
   ]
  },
  {
   "cell_type": "markdown",
   "metadata": {},
   "source": [
    "4.4"
   ]
  },
  {
   "cell_type": "code",
   "execution_count": 11,
   "metadata": {},
   "outputs": [],
   "source": [
    "import math\n",
    "import tkinter as tk\n",
    "\n",
    "\n",
    "def draw(shader, width, height):\n",
    "    image = bytearray((0, 0, 0) * width * height)\n",
    "    for y in range(height):\n",
    "        for x in range(width):\n",
    "            pos = (width * y + x) * 3\n",
    "            color = shader(x / width, y / height)\n",
    "            normalized = [max(min(int(c * 255), 255), 0) for c in color]\n",
    "            image[pos:pos + 3] = normalized\n",
    "    header = bytes(f'P6\\n{width} {height}\\n255\\n', 'ascii')\n",
    "    return header + image\n",
    "\n",
    "def main(shader):\n",
    "    label = tk.Label()\n",
    "    img = tk.PhotoImage(data=draw(shader, 256, 256)).zoom(2, 2)\n",
    "    label.pack()\n",
    "    label.config(image=img)\n",
    "    tk.mainloop()\n",
    "\n",
    "def shader(x, y):\n",
    "    \n",
    "    x =  (math.sin(x * 12.9898 + y * 78.233) * 43758.5463) % 1 \n",
    "\n",
    "    return x , x, x\n",
    "    \n",
    "\n",
    "main(shader)"
   ]
  },
  {
   "cell_type": "markdown",
   "metadata": {},
   "source": [
    "# 5\n",
    "---"
   ]
  },
  {
   "cell_type": "markdown",
   "metadata": {},
   "source": [
    "5.1"
   ]
  },
  {
   "cell_type": "code",
   "execution_count": 12,
   "metadata": {},
   "outputs": [],
   "source": [
    "import math\n",
    "import tkinter as tk\n",
    "\n",
    "\n",
    "def draw(shader, width, height):\n",
    "    image = bytearray((0, 0, 0) * width * height)\n",
    "    for y in range(height):\n",
    "        for x in range(width):\n",
    "            pos = (width * y + x) * 3\n",
    "            color = shader(x / width, y / height)\n",
    "            normalized = [max(min(int(c * 255), 255), 0) for c in color]\n",
    "            image[pos:pos + 3] = normalized\n",
    "    header = bytes(f'P6\\n{width} {height}\\n255\\n', 'ascii')\n",
    "    return header + image\n",
    "\n",
    "def main(shader):\n",
    "    label = tk.Label()\n",
    "    img = tk.PhotoImage(data=draw(shader, 256, 256)).zoom(2, 2)\n",
    "    label.pack()\n",
    "    label.config(image=img)\n",
    "    tk.mainloop()\n",
    "\n",
    "def circle(x,y,r):\n",
    "    cx, cy = 0, 0\n",
    "\n",
    "    dx = x - cx\n",
    "    dy = y - cy\n",
    "    \n",
    "    return (dx)**2 + (dy)** 2 - r**2\n",
    "    \n",
    "\n",
    "def sdf_func(x, y):\n",
    "    return circle(x, y, 0.45)\n",
    "\n",
    "def shader(x, y):\n",
    "    d = sdf_func(x - 0.5, y - 0.5)\n",
    "    return d > 0, abs(d) * 3, 0\n",
    "    \n",
    "\n",
    "main(shader)"
   ]
  },
  {
   "cell_type": "markdown",
   "metadata": {},
   "source": [
    "5.2"
   ]
  },
  {
   "cell_type": "code",
   "execution_count": 13,
   "metadata": {},
   "outputs": [],
   "source": [
    "import math\n",
    "import tkinter as tk\n",
    "\n",
    "\n",
    "def draw(shader, width, height):\n",
    "    image = bytearray((0, 0, 0) * width * height)\n",
    "    for y in range(height):\n",
    "        for x in range(width):\n",
    "            pos = (width * y + x) * 3\n",
    "            color = shader(x / width, y / height)\n",
    "            normalized = [max(min(int(c * 255), 255), 0) for c in color]\n",
    "            image[pos:pos + 3] = normalized\n",
    "    header = bytes(f'P6\\n{width} {height}\\n255\\n', 'ascii')\n",
    "    return header + image\n",
    "\n",
    "def main(shader):\n",
    "    label = tk.Label()\n",
    "    img = tk.PhotoImage(data=draw(shader, 256, 256)).zoom(2, 2)\n",
    "    label.pack()\n",
    "    label.config(image=img)\n",
    "    tk.mainloop()\n",
    "\n",
    "def box(x,y,size):\n",
    "    dx = abs(x) - size\n",
    "    dy = abs(y) - size\n",
    "    \n",
    "    return max(dx, dy)\n",
    "    \n",
    "\n",
    "def sdf_func(x, y):\n",
    "    return box(x, y, 0.4)\n",
    "\n",
    "def shader(x, y):\n",
    "    d = sdf_func(x - 0.5, y - 0.5)\n",
    "    return d > 0, abs(d) * 3, 0\n",
    "    \n",
    "\n",
    "main(shader)"
   ]
  },
  {
   "cell_type": "markdown",
   "metadata": {},
   "source": [
    "5.3"
   ]
  },
  {
   "cell_type": "code",
   "execution_count": 14,
   "metadata": {},
   "outputs": [],
   "source": [
    "import math\n",
    "import tkinter as tk\n",
    "\n",
    "\n",
    "def draw(shader, width, height):\n",
    "    image = bytearray((0, 0, 0) * width * height)\n",
    "    for y in range(height):\n",
    "        for x in range(width):\n",
    "            pos = (width * y + x) * 3\n",
    "            color = shader(x / width, y / height)\n",
    "            normalized = [max(min(int(c * 255), 255), 0) for c in color]\n",
    "            image[pos:pos + 3] = normalized\n",
    "    header = bytes(f'P6\\n{width} {height}\\n255\\n', 'ascii')\n",
    "    return header + image\n",
    "\n",
    "def main(shader):\n",
    "    label = tk.Label()\n",
    "    img = tk.PhotoImage(data=draw(shader, 256, 256)).zoom(2, 2)\n",
    "    label.pack()\n",
    "    label.config(image=img)\n",
    "    tk.mainloop()\n",
    "\n",
    "def circle(x,y,r):\n",
    "    cx, cy = 0, 0\n",
    "\n",
    "    dx = x - cx\n",
    "    dy = y - cy\n",
    "    \n",
    "    return (dx)**2 + (dy)** 2 - r**2\n",
    "\n",
    "def box(x,y,size):\n",
    "    dx = abs(x) - size\n",
    "    dy = abs(y) - size\n",
    "    \n",
    "    return max(dx, dy)\n",
    "\n",
    "def union(box, circle):\n",
    "    return min(box, circle)\n",
    "\n",
    "def intersect(box, circle):\n",
    "    return max(box, circle)\n",
    "\n",
    "def difference(box, circle):\n",
    "    return max(box, -circle)\n",
    "\n",
    "def sdf_func(x, y):\n",
    "    return difference(box(x, y, 0.4), circle(x, y, 0.3))\n",
    "\n",
    "def shader(x, y):\n",
    "    d = sdf_func(x - 0.5, y - 0.5)\n",
    "    return d > 0, abs(d) * 3, 0\n",
    "    \n",
    "\n",
    "main(shader)"
   ]
  },
  {
   "cell_type": "markdown",
   "metadata": {},
   "source": [
    "5.4"
   ]
  },
  {
   "cell_type": "code",
   "execution_count": 15,
   "metadata": {},
   "outputs": [],
   "source": [
    "import math\n",
    "import tkinter as tk\n",
    "\n",
    "\n",
    "def draw(shader, width, height):\n",
    "    image = bytearray((0, 0, 0) * width * height)\n",
    "    for y in range(height):\n",
    "        for x in range(width):\n",
    "            pos = (width * y + x) * 3\n",
    "            color = shader(x / width, y / height)\n",
    "            normalized = [max(min(int(c * 255), 255), 0) for c in color]\n",
    "            image[pos:pos + 3] = normalized\n",
    "    header = bytes(f'P6\\n{width} {height}\\n255\\n', 'ascii')\n",
    "    return header + image\n",
    "\n",
    "def main(shader):\n",
    "    label = tk.Label()\n",
    "    img = tk.PhotoImage(data=draw(shader, 256, 256)).zoom(2, 2)\n",
    "    label.pack()\n",
    "    label.config(image=img)\n",
    "    tk.mainloop()\n",
    "\n",
    "def circle(x, y, r):\n",
    "    cx, cy = 0, 0\n",
    "\n",
    "    dx = x - cx\n",
    "    dy = y - cy\n",
    "\n",
    "    return (dx)**2 + (dy)** 2 - r**2\n",
    "\n",
    "def mini_circle(x, y, r, place):\n",
    "    if place:\n",
    "        cx, cy = -r, -r\n",
    "    else:\n",
    "        cx, cy = r, -r\n",
    "\n",
    "    dx = x - cx\n",
    "    dy = y - cy\n",
    "    \n",
    "    if (x == y):\n",
    "        cx, cy = x, y\n",
    "\n",
    "    return (dx)**2 + (dy)** 2 - (r * 0.75)**2\n",
    "\n",
    "def union(obj1, obj2, obj3):\n",
    "    return min(obj1, obj2, obj3)\n",
    "\n",
    "def sdf_func(x, y):\n",
    "    return union(circle(x, y, 0.4), mini_circle(x, y, 0.25, 0), mini_circle(x, y, 0.25, 1))\n",
    "\n",
    "def shader(x, y):\n",
    "    d = sdf_func(x - 0.5, y - 0.5)\n",
    "    return d > 0, abs(d) * 3, 0\n",
    "    \n",
    "\n",
    "main(shader)"
   ]
  },
  {
   "cell_type": "markdown",
   "metadata": {},
   "source": [
    "5.5"
   ]
  },
  {
   "cell_type": "code",
   "execution_count": 16,
   "metadata": {},
   "outputs": [],
   "source": [
    "import math\n",
    "import tkinter as tk\n",
    "\n",
    "\n",
    "def draw(shader, width, height):\n",
    "    image = bytearray((0, 0, 0) * width * height)\n",
    "    for y in range(height):\n",
    "        for x in range(width):\n",
    "            pos = (width * y + x) * 3\n",
    "            color = shader(x / width, y / height)\n",
    "            normalized = [max(min(int(c * 255), 255), 0) for c in color]\n",
    "            image[pos:pos + 3] = normalized\n",
    "    header = bytes(f'P6\\n{width} {height}\\n255\\n', 'ascii')\n",
    "    return header + image\n",
    "\n",
    "def main(shader):\n",
    "    label = tk.Label()\n",
    "    img = tk.PhotoImage(data=draw(shader, 256, 256)).zoom(2, 2)\n",
    "    label.pack()\n",
    "    label.config(image=img)\n",
    "    tk.mainloop()\n",
    "\n",
    "def circle(x,y,r):\n",
    "    cx, cy = 0.1, -0.15\n",
    "\n",
    "    dx = x - cx\n",
    "    dy = y - cy\n",
    "    \n",
    "    return math.sqrt((dx)**2 + (dy)** 2) - r\n",
    "\n",
    "def box(x, y, size):\n",
    "    cx, cy = -0.124, 0\n",
    "    dx = abs(x - cx) - (size / 4)\n",
    "    dy = abs(y - cy) - size\n",
    "    return max(dx, dy)\n",
    "\n",
    "def union(box, circle):\n",
    "    return min(box, circle)\n",
    "\n",
    "\n",
    "def difference(box, circle):\n",
    "    return max(box, -circle)\n",
    "\n",
    "def sdf_func(x, y):\n",
    "    return union(box(x,y,0.399), difference(circle(x, y, 0.25), circle(x, y, 0.125)))\n",
    "\n",
    "def shader(x, y):\n",
    "    d = sdf_func(x - 0.5, y - 0.5)\n",
    "    return d > 0, abs(d) * 3, 0\n",
    "    \n",
    "\n",
    "main(shader)"
   ]
  }
 ],
 "metadata": {
  "kernelspec": {
   "display_name": "Python 3",
   "language": "python",
   "name": "python3"
  },
  "language_info": {
   "codemirror_mode": {
    "name": "ipython",
    "version": 3
   },
   "file_extension": ".py",
   "mimetype": "text/x-python",
   "name": "python",
   "nbconvert_exporter": "python",
   "pygments_lexer": "ipython3",
   "version": "3.11.9"
  }
 },
 "nbformat": 4,
 "nbformat_minor": 2
}
