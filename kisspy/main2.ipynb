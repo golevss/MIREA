{
 "cells": [
  {
   "cell_type": "markdown",
   "metadata": {},
   "source": [
    "# 1\n",
    "---"
   ]
  },
  {
   "cell_type": "code",
   "execution_count": null,
   "metadata": {},
   "outputs": [
    {
     "ename": "TabError",
     "evalue": "inconsistent use of tabs and spaces in indentation (38129960.py, line 4)",
     "output_type": "error",
     "traceback": [
      "\u001b[1;36m  Cell \u001b[1;32mIn[1], line 4\u001b[1;36m\u001b[0m\n\u001b[1;33m    print(a)  # Используется табуляция вместо пробела\u001b[0m\n\u001b[1;37m    ^\u001b[0m\n\u001b[1;31mTabError\u001b[0m\u001b[1;31m:\u001b[0m inconsistent use of tabs and spaces in indentation\n"
     ]
    }
   ],
   "source": [
    "# E101: indentation contains mixed spaces and tabs\n",
    "def example():\n",
    "    a = 5\n",
    "\tprint(a)\n",
    "\n",
    "# E111: indentation is not a multiple of four\n",
    "def example():\n",
    "   print(\"Indentation is incorrect\")\n",
    "\n",
    "# E112: expected an indented block\n",
    "def example():\n",
    "print(\"Missing indentation\")\n",
    "\n",
    "# E121: continuation line under-indented for hanging indent\n",
    "x = [\n",
    "1, 2, 3,\n",
    "]\n",
    "\n",
    "# E122: continuation line missing indentation or outdented\n",
    "y = {\n",
    "'a': 1,\n",
    "'b': 2,  \n",
    "'c': 3\n",
    "}\n",
    "\n",
    "# E123: closing bracket does not match indentation of opening bracket's line\n",
    "x = [\n",
    "    1, 2, 3\n",
    "]\n",
    "\n",
    "# E124: closing bracket does not match visual indentation\n",
    "x = [1, 2,\n",
    "     3]\n",
    "\n",
    "# E125: continuation line with same indent as next logical line\n",
    "if (some_condition and\n",
    "    other_condition):\n",
    "    do_something()\n",
    "\n",
    "# E126: continuation line over-indented for hanging indent\n",
    "x = some_function_call(\n",
    "        param1, param2, param3)\n",
    "\n",
    "# E127: continuation line over-indented for visual indent\n",
    "x = some_function_call(\n",
    "        param1, param2,\n",
    "        param3)\n",
    "\n",
    "# E128: continuation line under-indented for visual indent\n",
    "x = some_function_call(\n",
    "    param1, param2,\n",
    "  param3)\n",
    "\n",
    "# E201: whitespace after '('\n",
    "x = ( 1 + 2)\n",
    "\n",
    "# E202: whitespace before ')'\n",
    "y = (1 + 2 )\n",
    "\n",
    "# E203: whitespace before ','\n",
    "z = [1 , 2, 3]\n",
    "\n",
    "# E211: whitespace before '('\n",
    "print ( \"Hello\")\n",
    "\n",
    "# E221: multiple spaces before operator\n",
    "x  =  1 + 2 \n",
    "\n",
    "# E222: multiple spaces after operator\n",
    "y = 1  +  2\n",
    "\n",
    "# E223: tab before operator\n",
    "x\t= 3 \n",
    "\n",
    "# E224: tab after operator\n",
    "x = 3 \n",
    "\n",
    "# E225: missing whitespace around operator\n",
    "x=1+2\n",
    "\n",
    "# E226: missing whitespace around arithmetic operator\n",
    "y = 3*2 \n",
    "\n",
    "# E227: missing whitespace around bitwise or shift operator\n",
    "z = 4<<2 \n",
    "\n",
    "# E228: missing whitespace around modulo operator\n",
    "w = 5%3 \n",
    "\n",
    "# E231: missing whitespace after ','\n",
    "numbers = [1,2,3,4]  \n",
    "\n",
    "# E241: multiple spaces after ','\n",
    "numbers = [1,  2,  3]  \n",
    "\n",
    "# E242: tab after ','\n",
    "numbers = [1,\t2,\t3]  \n",
    "\n",
    "# E251: unexpected spaces around keyword / parameter equals\n",
    "def func(param = 1):  \n",
    "    pass\n",
    "\n",
    "# E261: at least two spaces before inline comment\n",
    "x = 10#комментарий\n",
    "\n",
    "# E262: inline comment should start with '# '\n",
    "x = 10 \n",
    "# E265: block comment should start with '# '\n",
    "####комментарий\n",
    "\n",
    "# E271: multiple spaces after keyword\n",
    "if   x == 1:  \n",
    "    pass\n",
    "\n",
    "# E272: multiple spaces before keyword\n",
    "    if x == 1:  \n",
    "        pass\n",
    "\n",
    "# E273: tab after keyword\n",
    "if\tx == 1:  \n",
    "    pass\n",
    "\n",
    "# E274: tab before keyword\n",
    "\tif x == 1:  \n",
    "\t    pass\n",
    "\n",
    "# E275: missing whitespace after keyword\n",
    "if(True):  \n",
    "    pass\n",
    "\n",
    "# E301: expected 1 blank line, found 0\n",
    "def first():\n",
    "    pass\n",
    "def second():  \n",
    "    pass\n",
    "\n",
    "# E302: expected 2 blank lines, found 0\n",
    "import os\n",
    "import sys  \n",
    "\n",
    "# E303: too many blank lines (3)\n",
    "def func():\n",
    "    \n",
    "\n",
    "\n",
    "    pass  \n",
    "\n",
    "# E401: multiple imports on one line\n",
    "import os, sys\n",
    "\n",
    "# E402: module level import not at top of file\n",
    "x = 10\n",
    "import os  \n",
    "\n",
    "# E501: line too long (82 > 79 characters)\n",
    "long_string = \"This is a very long line that exceeds seventy-nine characters in length.\"\n",
    "\n",
    "# E702: multiple statements on one line (semicolon)\n",
    "x = 1; y = 2; print(x, y)\n",
    "\n",
    "# E703: statement ends with a semicolon\n",
    "print(\"Hello\");\n",
    "\n",
    "# E711: comparison to None should be 'if cond is None:'\n",
    "if x == None:\n",
    "    pass\n",
    "\n",
    "# E712: comparison to True should be 'if cond:'\n",
    "if x == True:\n",
    "    pass\n",
    "\n",
    "# E713: test for membership should be 'not in'\n",
    "if not \"a\" in some_list:\n",
    "    pass\n",
    "\n",
    "# E714: test for object identity should be 'is not'\n",
    "if some_var is not None:\n",
    "    pass\n",
    "\n",
    "# E721: do not compare types, use 'isinstance()'\n",
    "if type(x) == int:\n",
    "    pass\n",
    "\n",
    "# E722: do not use bare except, specify exception instead\n",
    "try:\n",
    "    x = 1 / 0\n",
    "except:\n",
    "    pass\n",
    "\n",
    "# E731: do not assign a lambda expression, use a def\n",
    "square = lambda x: x * x\n",
    "\n",
    "# W191: indentation contains tabs\n",
    "def example():\n",
    "\tprint(\"Hello\")  \n",
    "\n",
    "# W291: trailing whitespace\n",
    "x = 5     \n",
    "\n",
    "# W292: no newline at end of file\n",
    "print(\"Hello\")\n"
   ]
  },
  {
   "cell_type": "markdown",
   "metadata": {},
   "source": [
    "# 2\n",
    "---"
   ]
  },
  {
   "cell_type": "markdown",
   "metadata": {},
   "source": [
    "### 2.1"
   ]
  },
  {
   "cell_type": "markdown",
   "metadata": {},
   "source": [
    "Ошикба `0x` используется при объявлении чисел в 16сс"
   ]
  },
  {
   "cell_type": "code",
   "execution_count": null,
   "metadata": {},
   "outputs": [
    {
     "name": "stderr",
     "output_type": "stream",
     "text": [
      "<>:1: SyntaxWarning: invalid hexadecimal literal\n",
      "<>:1: SyntaxWarning: invalid hexadecimal literal\n",
      "C:\\Users\\semen\\AppData\\Local\\Temp\\ipykernel_14396\\750992724.py:1: SyntaxWarning: invalid hexadecimal literal\n",
      "  [0xfor _ in 'abc']\n"
     ]
    },
    {
     "data": {
      "text/plain": [
       "[15]"
      ]
     },
     "execution_count": 3,
     "metadata": {},
     "output_type": "execute_result"
    }
   ],
   "source": [
    "[0x8 for _ in 'abc']"
   ]
  },
  {
   "cell_type": "markdown",
   "metadata": {},
   "source": [
    "### 2.2"
   ]
  },
  {
   "cell_type": "markdown",
   "metadata": {},
   "source": [
    "Маленькие числа кэшируются, большие создаются как отдельный объект"
   ]
  },
  {
   "cell_type": "code",
   "execution_count": 4,
   "metadata": {},
   "outputs": [
    {
     "name": "stdout",
     "output_type": "stream",
     "text": [
      "True False\n"
     ]
    }
   ],
   "source": [
    "a = 1\n",
    "b = 1\n",
    "c = 300000 # проверено в Python 3.11\n",
    "d = 300000\n",
    "print(a is b, c is d)"
   ]
  },
  {
   "cell_type": "markdown",
   "metadata": {},
   "source": [
    "Просто строки кэшируются, строки созданные с помощью `.join` нет   \n",
    "a == c True; потому что значение одно"
   ]
  },
  {
   "cell_type": "code",
   "execution_count": 5,
   "metadata": {},
   "outputs": [
    {
     "name": "stdout",
     "output_type": "stream",
     "text": [
      "True True False\n"
     ]
    }
   ],
   "source": [
    "a, b = 'py', 'py'\n",
    "c = ''.join(['p', 'y'])\n",
    "print(a is b, a == c, a is c)"
   ]
  },
  {
   "cell_type": "markdown",
   "metadata": {},
   "source": [
    "### 2.3\n"
   ]
  },
  {
   "cell_type": "markdown",
   "metadata": {},
   "source": [
    "Было"
   ]
  },
  {
   "cell_type": "code",
   "execution_count": null,
   "metadata": {},
   "outputs": [],
   "source": [
    "i = 0\n",
    "['much','code','wow'][i] # 24 символа"
   ]
  },
  {
   "cell_type": "markdown",
   "metadata": {},
   "source": [
    "Стало"
   ]
  },
  {
   "cell_type": "code",
   "execution_count": 9,
   "metadata": {},
   "outputs": [
    {
     "data": {
      "text/plain": [
       "'much'"
      ]
     },
     "execution_count": 9,
     "metadata": {},
     "output_type": "execute_result"
    }
   ],
   "source": [
    "i = 0\n",
    "'much code wow'[i*5:i*5+4]"
   ]
  },
  {
   "cell_type": "markdown",
   "metadata": {},
   "source": [
    "### 2.4"
   ]
  },
  {
   "cell_type": "code",
   "execution_count": null,
   "metadata": {},
   "outputs": [
    {
     "name": "stdout",
     "output_type": "stream",
     "text": [
      "['a', 'b', 'c', 'd']\n"
     ]
    },
    {
     "ename": "TypeError",
     "evalue": "can only concatenate list (not \"str\") to list",
     "output_type": "error",
     "traceback": [
      "\u001b[1;31m---------------------------------------------------------------------------\u001b[0m",
      "\u001b[1;31mTypeError\u001b[0m                                 Traceback (most recent call last)",
      "Cell \u001b[1;32mIn[10], line 5\u001b[0m\n\u001b[0;32m      2\u001b[0m lst \u001b[38;5;241m+\u001b[39m\u001b[38;5;241m=\u001b[39m \u001b[38;5;124m'\u001b[39m\u001b[38;5;124md\u001b[39m\u001b[38;5;124m'\u001b[39m\n\u001b[0;32m      3\u001b[0m \u001b[38;5;28mprint\u001b[39m(lst)\n\u001b[1;32m----> 5\u001b[0m lst \u001b[38;5;241m=\u001b[39m \u001b[43mlst\u001b[49m\u001b[43m \u001b[49m\u001b[38;5;241;43m+\u001b[39;49m\u001b[43m \u001b[49m\u001b[38;5;124;43m'\u001b[39;49m\u001b[38;5;124;43md\u001b[39;49m\u001b[38;5;124;43m'\u001b[39;49m \u001b[38;5;66;03m# Ошибка?!\u001b[39;00m\n\u001b[0;32m      6\u001b[0m \u001b[38;5;28mprint\u001b[39m(lst)\n\u001b[0;32m      7\u001b[0m lst \u001b[38;5;241m+\u001b[39m\u001b[38;5;241m=\u001b[39m \u001b[38;5;241m42\u001b[39m\n",
      "\u001b[1;31mTypeError\u001b[0m: can only concatenate list (not \"str\") to list"
     ]
    }
   ],
   "source": [
    "lst = ['a', 'b', 'c']\n",
    "lst += 'd'\n",
    "print(lst)\n",
    "\n",
    "lst = lst + 'd' # Ошибка?! # Попытка создания нового объекта а не дополнения lst\n",
    "print(lst)\n",
    "lst += 42\n",
    "\n",
    "print(lst) # Ошибка?! # int - не итерируемый"
   ]
  },
  {
   "cell_type": "markdown",
   "metadata": {},
   "source": [
    "# 3\n",
    "---"
   ]
  },
  {
   "cell_type": "markdown",
   "metadata": {},
   "source": [
    "### 3.1"
   ]
  },
  {
   "cell_type": "code",
   "execution_count": null,
   "metadata": {},
   "outputs": [],
   "source": [
    "s = [\"1\", \"2\", \"3\"]\n",
    "s = [int(x) for x in s]"
   ]
  },
  {
   "cell_type": "markdown",
   "metadata": {},
   "source": [
    "### 3.2"
   ]
  },
  {
   "cell_type": "code",
   "execution_count": null,
   "metadata": {},
   "outputs": [],
   "source": [
    "s = [1, 2, 2, 3, 4, 4, 4]\n",
    "len(set(s))"
   ]
  },
  {
   "cell_type": "markdown",
   "metadata": {},
   "source": [
    "### 3.3"
   ]
  },
  {
   "cell_type": "code",
   "execution_count": null,
   "metadata": {},
   "outputs": [],
   "source": [
    "s = s[::-1]"
   ]
  },
  {
   "cell_type": "markdown",
   "metadata": {},
   "source": [
    "### 3.4"
   ]
  },
  {
   "cell_type": "code",
   "execution_count": null,
   "metadata": {},
   "outputs": [],
   "source": [
    "[i for i in s if s[i] == x]"
   ]
  },
  {
   "cell_type": "markdown",
   "metadata": {},
   "source": [
    "### 3.5"
   ]
  },
  {
   "cell_type": "code",
   "execution_count": null,
   "metadata": {},
   "outputs": [],
   "source": [
    "sum(s[::2])"
   ]
  },
  {
   "cell_type": "markdown",
   "metadata": {},
   "source": [
    "### 3.6"
   ]
  },
  {
   "cell_type": "code",
   "execution_count": null,
   "metadata": {},
   "outputs": [],
   "source": [
    "max(s, key=len)"
   ]
  },
  {
   "cell_type": "markdown",
   "metadata": {},
   "source": [
    "### 3.7"
   ]
  },
  {
   "cell_type": "code",
   "execution_count": 24,
   "metadata": {},
   "outputs": [
    {
     "name": "stdout",
     "output_type": "stream",
     "text": [
      "True\n"
     ]
    }
   ],
   "source": [
    "n = 1729 \n",
    "print(n % sum(int(d) for d in str(n)) == 0)"
   ]
  },
  {
   "cell_type": "markdown",
   "metadata": {},
   "source": [
    "### 3.8"
   ]
  },
  {
   "cell_type": "code",
   "execution_count": 23,
   "metadata": {},
   "outputs": [
    {
     "name": "stdout",
     "output_type": "stream",
     "text": [
      "vrUTdBnsXyybeDZ\n"
     ]
    }
   ],
   "source": [
    "import random, string\n",
    "n = 15\n",
    "print(''.join(random.choices(string.ascii_letters, k=n)))"
   ]
  },
  {
   "cell_type": "markdown",
   "metadata": {},
   "source": [
    "### 3.9"
   ]
  },
  {
   "cell_type": "code",
   "execution_count": null,
   "metadata": {},
   "outputs": [],
   "source": [
    "from itertools import groupby\n",
    "[(k, len(list(g))) for k, g in groupby(s)]"
   ]
  },
  {
   "cell_type": "markdown",
   "metadata": {},
   "source": [
    "# 4\n",
    "---"
   ]
  },
  {
   "cell_type": "markdown",
   "metadata": {},
   "source": [
    "### 4.1"
   ]
  },
  {
   "cell_type": "code",
   "execution_count": 32,
   "metadata": {},
   "outputs": [
    {
     "name": "stdout",
     "output_type": "stream",
     "text": [
      "['ИКБО-01-21', 'ИКБО-02-21', 'ИКБО-03-21', 'ИКБО-04-21', 'ИКБО-01-22', 'ИКБО-02-22', 'ИКБО-03-22', 'ИКБО-04-22', 'ИКБО-01-23', 'ИКБО-02-23', 'ИКБО-03-23', 'ИКБО-04-23', 'ИКБО-01-24', 'ИКБО-02-24', 'ИКБО-03-24', 'ИКБО-04-24']\n"
     ]
    }
   ],
   "source": [
    "def generate_groups():\n",
    "    return [f\"ИКБО-{group:02d}-{course:02d}\" for course in range(21, 25) for group in range(1, 5)]\n",
    "\n",
    "print(generate_groups())\n"
   ]
  },
  {
   "cell_type": "markdown",
   "metadata": {},
   "source": [
    "### 4.2"
   ]
  },
  {
   "cell_type": "code",
   "execution_count": 39,
   "metadata": {},
   "outputs": [
    {
     "name": "stdout",
     "output_type": "stream",
     "text": [
      "\u0000\u0000\u0004\u001f\u0000\u0000\u0004>\u0000\u0000\u00047\u0000\u0000\u00044\u0000\u0000\u0004@\u0000\u0000\u00040\u0000\u0000\u00042\u0000\u0000\u0004;\u0000\u0000\u0004O\u0000\u0000\u0004N\u0000\u0000\u0000!\u0000\u0000\u0000 \u0000\u0000\u0004\u0012\u0000\u0000\u0004K\u0000\u0000\u0000 \u0000\u0000\u0004=\u0000\u0000\u00040\u0000\u0000\u0004H\u0000\u0000\u0004;\u0000\u0000\u00048\u0000\u0000\u0000 \u0000\u0000\u0004A\u0000\u0000\u00045\u0000\u0000\u0004:\u0000\u0000\u0004@\u0000\u0000\u00045\u0000\u0000\u0004B\u0000\u0000\u0004=\u0000\u0000\u0004>\u0000\u0000\u00045\u0000\u0000\u0000 \u0000\u0000\u0004A\u0000\u0000\u0004>\u0000\u0000\u0004>\u0000\u0000\u00041\u0000\u0000\u0004I\u0000\u0000\u00045\u0000\u0000\u0004=\u0000\u0000\u00048\u0000\u0000\u00045\n"
     ]
    }
   ],
   "source": [
    "def tea_decrypt(v, k):\n",
    "    v0, v1 = v\n",
    "    sum = 0xC6EF3720\n",
    "    delta = 0x9E3779B9\n",
    "    mask = 0xffffffff\n",
    "    k0, k1, k2, k3 = k\n",
    "    for _ in range(32):\n",
    "        v1 = (v1 - (((v0 << 4) + k2) ^ (v0 + sum) ^ ((v0 >> 5) + k3))) & mask\n",
    "        v0 = (v0 - (((v1 << 4) + k0) ^ (v1 + sum) ^ ((v1 >> 5) + k1))) & mask\n",
    "        sum = (sum - delta) & mask\n",
    "    return v0, v1\n",
    "\n",
    "ciphertext = [\n",
    "    0xE3238557, 0x6204A1F8, 0xE6537611, 0x174E5747,\n",
    "    0x5D954DA8, 0x8C2DFE97, 0x2911CB4C, 0x2CB7C66B,\n",
    "    0xE7F185A0, 0xC7E3FA40, 0x42419867, 0x374044DF,\n",
    "    0x2519F07D, 0x5A0C24D4, 0xF4A960C5, 0x31159418,\n",
    "    0xF2768EC7, 0xAEAF14CF, 0x071B2C95, 0xC9F22699,\n",
    "    0xFFB06F41, 0x2AC90051, 0xA53F035D, 0x830601A7,\n",
    "    0xEB475702, 0x183BAA6F, 0x12626744, 0x9B75A72F,\n",
    "    0x8DBFBFEC, 0x73C1A46E, 0xFFB06F41, 0x2AC90051,\n",
    "    0x97C5E4E9, 0xB1C26A21, 0xDD4A3463, 0x6B71162F,\n",
    "    0x8C075668, 0x7975D565, 0x6D95A700, 0x7272E637\n",
    "]\n",
    "\n",
    "key = [0, 4, 5, 1]\n",
    "\n",
    "decrypted_blocks = [tea_decrypt(ciphertext[i:i+2], key) \n",
    "                    for i in range(0, len(ciphertext), 2)]\n",
    "\n",
    "decrypted_bytes = b''.join(\n",
    "    v0.to_bytes(4, byteorder='big') + v1.to_bytes(4, byteorder='big')\n",
    "    for v0, v1 in decrypted_blocks\n",
    ")\n",
    "\n",
    "try:\n",
    "    message = decrypted_bytes.decode('utf-8')\n",
    "except UnicodeDecodeError:\n",
    "    message = decrypted_bytes.decode('latin-1')\n",
    "    \n",
    "print(message)\n"
   ]
  },
  {
   "cell_type": "markdown",
   "metadata": {},
   "source": [
    "# 5\n",
    "---"
   ]
  },
  {
   "cell_type": "markdown",
   "metadata": {},
   "source": [
    "### 5.1"
   ]
  },
  {
   "cell_type": "code",
   "execution_count": null,
   "metadata": {},
   "outputs": [],
   "source": [
    "def ham_dist(x, y):\n",
    "    return bin(x ^ y).count('1')"
   ]
  },
  {
   "cell_type": "code",
   "execution_count": null,
   "metadata": {},
   "outputs": [],
   "source": [
    "ham_dist = lambda x, y: bin(x ^ y).count('1')"
   ]
  },
  {
   "cell_type": "markdown",
   "metadata": {},
   "source": [
    "### 5.2"
   ]
  },
  {
   "cell_type": "code",
   "execution_count": 40,
   "metadata": {},
   "outputs": [
    {
     "name": "stdout",
     "output_type": "stream",
     "text": [
      "Very important\n"
     ]
    }
   ],
   "source": [
    "def encode_val(bits, rep, num):\n",
    "    return int(''.join(bin((num >> i) & 1)[2:] * rep for i in range(bits - 1, -1, -1)), 2)\n",
    "\n",
    "def decode_val(bits, rep, num):\n",
    "    chunks = [bin(num)[2:].zfill(bits * rep)[i:i + rep] for i in range(0, bits * rep, rep)]\n",
    "    return int(''.join('1' if chunk.count('1') > chunk.count('0') else '0' for chunk in chunks), 2)\n",
    "\n",
    "encoded_message = [815608, 2064837, 2093080, 2063879, 196608, 2067983, 10457031, 1830912, 2067455, 2093116, 1044928, 2064407, 6262776, 2027968]\n",
    "decoded_bytes = bytes(decode_val(24, 3, num) for num in encoded_message)\n",
    "print(decoded_bytes.decode('utf-8'))"
   ]
  },
  {
   "cell_type": "markdown",
   "metadata": {},
   "source": [
    "### 5.3"
   ]
  },
  {
   "cell_type": "code",
   "execution_count": null,
   "metadata": {},
   "outputs": [
    {
     "name": "stdout",
     "output_type": "stream",
     "text": [
      "3\n"
     ]
    }
   ],
   "source": [
    "from functools import cache\n",
    "\n",
    "def lev_dist(a, b):\n",
    "    if not a: return len(b)\n",
    "    if not b: return len(a)\n",
    "    return min(lev_dist(a[1:], b) + 1,\n",
    "               lev_dist(a, b[1:]) + 1,\n",
    "               lev_dist(a[1:], b[1:]) + (a[0] != b[0]))\n",
    "\n",
    "print(lev_dist('столб', 'слон'))"
   ]
  },
  {
   "cell_type": "code",
   "execution_count": null,
   "metadata": {},
   "outputs": [
    {
     "name": "stdout",
     "output_type": "stream",
     "text": [
      "3\n"
     ]
    }
   ],
   "source": [
    "lev_dist = lambda a, b: len(b) if not a else len(a) if not b else min(\n",
    "    lev_dist(a[1:], b) + 1,\n",
    "    lev_dist(a, b[1:]) + 1,\n",
    "    lev_dist(a[1:], b[1:]) + (a[0] != b[0])\n",
    ")\n",
    "\n",
    "print(lev_dist('столб', 'слон'))"
   ]
  },
  {
   "cell_type": "markdown",
   "metadata": {},
   "source": [
    "### 5.4"
   ]
  },
  {
   "cell_type": "code",
   "execution_count": null,
   "metadata": {},
   "outputs": [
    {
     "name": "stdout",
     "output_type": "stream",
     "text": [
      "['замена', 'удаление', 'замена']\n"
     ]
    }
   ],
   "source": [
    "def lev_dist_ops(a: str, b: str):\n",
    "    if not a: return ['вставка'] * len(b)\n",
    "    if not b: return ['удаление'] * len(a)\n",
    "    \n",
    "    if a[0] == b[0]:  \n",
    "        return lev_dist_ops(a[1:], b[1:])\n",
    "    \n",
    "    operations = [\n",
    "        (lev_dist_ops(a[1:], b), 'удаление'),\n",
    "        (lev_dist_ops(a, b[1:]), 'вставка'),\n",
    "        (lev_dist_ops(a[1:], b[1:]), 'замена'),\n",
    "    ]\n",
    "    \n",
    "    return [min(operations, key=lambda x: len(x[0]))[1]] + min(operations, key=lambda x: len(x[0]))[0]\n",
    "\n",
    "\n",
    "print(lev_dist_ops('столб', 'слон'))\n"
   ]
  },
  {
   "cell_type": "markdown",
   "metadata": {},
   "source": [
    "### 5.5"
   ]
  },
  {
   "cell_type": "code",
   "execution_count": null,
   "metadata": {},
   "outputs": [],
   "source": [
    "def lev_dist_gen(a: str, b: str):\n",
    "    ops = []\n",
    "    i, j = len(a), len(b)\n",
    "    \n",
    "    @cache\n",
    "    def recurse(a, b, i, j):\n",
    "        if i == 0: return ['x.insert(0, y[%d])' % k for k in range(j)]\n",
    "        if j == 0: return ['del x[%d]' % k for k in range(i)]\n",
    "        \n",
    "        if a[i - 1] == b[j - 1]:\n",
    "            return recurse(a, b, i - 1, j - 1)\n",
    "        \n",
    "        deletion = recurse(a, b, i - 1, j) + ['del x[%d]' % (i - 1)]\n",
    "        insertion = recurse(a, b, i, j - 1) + ['x.insert(%d, y[%d])' % (i, j - 1)]\n",
    "        replacement = recurse(a, b, i - 1, j - 1) + ['x[%d] = y[%d]' % (i - 1, j - 1)]\n",
    "        \n",
    "        return min([deletion, insertion, replacement], key=len)\n",
    "    \n",
    "    return '\\n'.join(recurse(a, b, i, j))\n"
   ]
  },
  {
   "cell_type": "markdown",
   "metadata": {},
   "source": [
    "### 5.6"
   ]
  },
  {
   "cell_type": "code",
   "execution_count": 48,
   "metadata": {},
   "outputs": [
    {
     "name": "stdout",
     "output_type": "stream",
     "text": [
      "жизнь\n"
     ]
    }
   ],
   "source": [
    "import requests\n",
    "from functools import cache\n",
    "\n",
    "url = 'https://raw.githubusercontent.com/true-grue/kispython/refs/heads/main/data/words.txt'\n",
    "response = requests.get(url)\n",
    "data = response.text\n",
    "\n",
    "word_freq = {}\n",
    "for line in data.splitlines():\n",
    "    parts = line.split()\n",
    "    if len(parts) == 2:\n",
    "        word, freq = parts\n",
    "        word_freq[word] = int(freq)\n",
    "\n",
    "@cache\n",
    "def lev_dist(a, b):\n",
    "    if not a: return len(b)\n",
    "    if not b: return len(a)\n",
    "    return min(lev_dist(a[1:], b) + 1,\n",
    "               lev_dist(a, b[1:]) + 1,\n",
    "               lev_dist(a[1:], b[1:]) + (a[0] != b[0]))\n",
    "\n",
    "def spell(word):\n",
    "    if word in word_freq:\n",
    "        return word\n",
    "    candidates = [(lev_dist(word, w), freq, w) for w, freq in word_freq.items()]\n",
    "    candidates.sort()\n",
    "    min_dist = candidates[0][0]\n",
    "    best_matches = [w for d, f, w in candidates if d == min_dist]\n",
    "    return max(best_matches, key=lambda w: word_freq[w])\n",
    "\n",
    "# Example usage\n",
    "print(spell('жызнь'))"
   ]
  },
  {
   "cell_type": "markdown",
   "metadata": {},
   "source": [
    "### 5.7"
   ]
  },
  {
   "cell_type": "code",
   "execution_count": 55,
   "metadata": {},
   "outputs": [
    {
     "name": "stdout",
     "output_type": "stream",
     "text": [
      "почему\n"
     ]
    }
   ],
   "source": [
    "similar_chars = {\n",
    "    'o': 'о', 'a': 'а', 'c': 'с', 'e': 'е', 'p': 'р', 'x': 'х',\n",
    "    'О': 'O', 'А': 'A', 'С': 'C', 'Е': 'E', 'Р': 'P', 'Х': 'X'\n",
    "}\n",
    "\n",
    "def normalize(word):\n",
    "    return ''.join(similar_chars.get(c, c) for c in word)\n",
    "\n",
    "def spell_check_advanced(text):\n",
    "    words = text.split()\n",
    "    return ' '.join(spell(normalize(word)) for word in words)\n",
    "\n",
    "print(spell_check_advanced('пoчoему'))"
   ]
  },
  {
   "cell_type": "markdown",
   "metadata": {},
   "source": [
    "# 6\n",
    "---"
   ]
  },
  {
   "cell_type": "markdown",
   "metadata": {},
   "source": [
    "### 6.1"
   ]
  },
  {
   "cell_type": "code",
   "execution_count": 62,
   "metadata": {},
   "outputs": [
    {
     "name": "stdout",
     "output_type": "stream",
     "text": [
      "Следовательно, диджитализация бизнес-процессов несёт в себе риски нормативного регулирования.\n"
     ]
    }
   ],
   "source": [
    "def generate_report():\n",
    "    phrases1 = [\n",
    "        \"Коллеги\",\n",
    "        \"В то же время\",\n",
    "        \"Однако\",\n",
    "        \"Тем не менее\",\n",
    "        \"Следовательно\",\n",
    "        \"Соответственно\",\n",
    "        \"Вместе с тем\",\n",
    "        \"С другой стороны\",\n",
    "    ]\n",
    "    phrases2 = [\n",
    "        \"парадигма цифровой экономики\",\n",
    "        \"контекст цифровой трансформации\",\n",
    "        \"диджитализация бизнес-процессов\",\n",
    "        \"прагматичный подход к цифровым платформам\",\n",
    "        \"совокупность сквозных технологий\",\n",
    "        \"программа прорывных исследований\",\n",
    "        \"ускорение блокчейн-транзакций\",\n",
    "        \"экспоненциальный рост Big Data\",\n",
    "    ]\n",
    "    phrases3 = [\n",
    "        \"открывает новые возможности для\",\n",
    "        \"выдвигает новые требования\",\n",
    "        \"несёт в себе риски\",\n",
    "        \"расширяет горизонты\",\n",
    "        \"заставляет искать варианты\",\n",
    "        \"не оставляет шанса для\",\n",
    "        \"повышает вероятность\",\n",
    "        \"обостряет проблему\",\n",
    "    ]\n",
    "    phrases4 = [\n",
    "        \"дальнейшего углубления\",\n",
    "        \"бюджетного финансирования\",\n",
    "        \"синергетического эффекта\",\n",
    "        \"компрометации конфиденциальных\",\n",
    "        \"универсальной коммодитизации\",\n",
    "        \"несанкционированной кастомизации\",\n",
    "        \"нормативного регулирования\",\n",
    "        \"практического применения\",\n",
    "    ]\n",
    "    sentence = f\"{random.choice(phrases1)}, {random.choice(phrases2)} {random.choice(phrases3)} {random.choice(phrases4)}.\"\n",
    "    \n",
    "    return sentence\n",
    "print(generate_report())"
   ]
  },
  {
   "cell_type": "markdown",
   "metadata": {},
   "source": [
    "### 6.2"
   ]
  },
  {
   "cell_type": "code",
   "execution_count": 64,
   "metadata": {},
   "outputs": [],
   "source": [
    "import pandas as pd\n",
    "\n",
    "def build_table(text: str) -> pd.DataFrame:\n",
    "    words = text.lower().split()\n",
    "    word_freq = Counter(words)\n",
    "    df = pd.DataFrame(word_freq.items(), columns=[\"Слово\", \"Частота\"])\n",
    "    return df.sort_values(by=\"Частота\", ascending=False)"
   ]
  },
  {
   "cell_type": "markdown",
   "metadata": {},
   "source": [
    "### 6.3"
   ]
  },
  {
   "cell_type": "code",
   "execution_count": 68,
   "metadata": {},
   "outputs": [
    {
     "name": "stdout",
     "output_type": "stream",
     "text": [
      "Тамерлан А. Нлгев\n",
      "Данил Д. Рчнев\n",
      "Семен Е. Псжий\n",
      "Тамерлан О. Мдмсяк\n",
      "Ильдар И. Шгшяк\n",
      "Лев Ц. Знгсяк\n",
      "Николай А. Вщщский\n",
      "Самир Ц. Щххин\n",
      "Николай А. Кнбов\n",
      "Тамерлан Л. Дчцов\n",
      "Николай Ш. Бфлчли\n",
      "Николай Д. Фрцчли\n",
      "Данил К. Гщкчли\n",
      "Николай Д. Шлдяк\n",
      "Роман Ц. Рвряк\n"
     ]
    }
   ],
   "source": [
    "def generate_fio():\n",
    "    names = [\"Данил\", \"Роман\", \"Лев\", \"Ильдар\", \"Николай\", \"Данила\", \"Семен\", \"Самир\", \"Тамерлан\", \"Святослав\"]\n",
    "    initials = [\"А\", \"Д\", \"Ц\", \"Р\", \"И\", \"Л\", \"О\", \"К\", \"Ш\", \"Е\"]\n",
    "    surname_suffixes = [\"ов\", \"ев\", \"ий\", \"ин\", \"ский\", \"як\", \"чли\", \"дяк\", \"сяк\"]\n",
    "    surname = ''.join(random.choices(\"бвгджзклмнпрстфхцчшщ\", k=3)).capitalize() + random.choice(surname_suffixes)\n",
    "    return f\"{random.choice(names)} {random.choice(initials)}. {surname}\"\n",
    "\n",
    "for _ in range(15):\n",
    "    print(generate_fio())"
   ]
  },
  {
   "cell_type": "markdown",
   "metadata": {},
   "source": [
    "### 6.4"
   ]
  },
  {
   "cell_type": "code",
   "execution_count": 82,
   "metadata": {},
   "outputs": [
    {
     "name": "stdout",
     "output_type": "stream",
     "text": [
      "Сгенерированный текст:  a this a test. hello world, this a test. hello wo\n"
     ]
    }
   ],
   "source": [
    "import random\n",
    "from collections import Counter\n",
    "\n",
    "def train_markov_model(text: str, order: int) -> dict:\n",
    "    model = {}\n",
    "    for i in range(len(text) - order):\n",
    "        prefix = text[i:i+order]\n",
    "        next_char = text[i+order]\n",
    "        if prefix not in model:\n",
    "            model[prefix] = Counter()\n",
    "        model[prefix][next_char] += 1\n",
    "    return model\n",
    "\n",
    "def generate_text(model: dict, order: int, length: int) -> str:\n",
    "    prefix = random.choice(list(model.keys()))\n",
    "    result = prefix\n",
    "    for _ in range(length - order):\n",
    "        if prefix not in model:\n",
    "            break\n",
    "        next_char = random.choices(\n",
    "            list(model[prefix].keys()),\n",
    "            weights=model[prefix].values()\n",
    "        )[0]\n",
    "        result += next_char\n",
    "        prefix = result[-order:]\n",
    "    return result\n",
    "\n",
    "\n",
    "text = \"hello world, this is a test. hello world.\"\n",
    "\n",
    "order = 2\n",
    "model = train_markov_model(text, order)\n",
    "\n",
    "generated_text = generate_text(model, order, 50)\n",
    "print(\"Сгенерированный текст:\", generated_text)\n"
   ]
  },
  {
   "cell_type": "code",
   "execution_count": 91,
   "metadata": {},
   "outputs": [
    {
     "name": "stdout",
     "output_type": "stream",
     "text": [
      "Сгенерированный текст:\n",
      "етанье;\n",
      "Где всем простерт их твердый щит,\n",
      "Где крепко с Вольностью святой\n",
      "Законов мощных сочетанье;\n",
      "Где крепко с Вольностью святой\n",
      "Законов мощных сочетанье;\n",
      "Где сжатый верными руками\n",
      "Граждан над равным\n"
     ]
    }
   ],
   "source": [
    "import random\n",
    "from collections import Counter\n",
    "\n",
    "def train_markov_model(text: str, order: int) -> dict:\n",
    "    model = {}\n",
    "    for i in range(len(text) - order):\n",
    "        prefix = text[i:i+order]\n",
    "        next_char = text[i+order]\n",
    "        if prefix not in model:\n",
    "            model[prefix] = Counter()\n",
    "        model[prefix][next_char] += 1\n",
    "    return model\n",
    "\n",
    "def generate_text(model: dict, order: int, length: int) -> str:\n",
    "    prefix = random.choice(list(model.keys()))\n",
    "    result = prefix\n",
    "    \n",
    "    for _ in range(length - order):\n",
    "        if prefix not in model:\n",
    "            break\n",
    "        \n",
    "        next_char = random.choices(\n",
    "            list(model[prefix].keys()),\n",
    "            weights=model[prefix].values()\n",
    "        )[0]\n",
    "        \n",
    "        result += next_char\n",
    "        prefix = result[-order:]\n",
    "    \n",
    "    return result\n",
    "\n",
    "text = \"\"\"\n",
    "С тех пор, как умерла княжна,\n",
    "Свершилось и ее страданье,\n",
    "Где крепко с Вольностью святой\n",
    "Законов мощных сочетанье;\n",
    "Где всем простерт их твердый щит,\n",
    "Где сжатый верными руками\n",
    "Граждан над равными главами\n",
    "Их меч без выбора скользит\n",
    "И преступленью не причастна;\n",
    "Я знаю: не твоя вина…\n",
    "\"\"\"\n",
    "\n",
    "order = 5 \n",
    "model = train_markov_model(text, order)\n",
    "\n",
    "generated_text = generate_text(model, order, 200)\n",
    "print(\"Сгенерированный текст:\")\n",
    "print(generated_text)\n"
   ]
  },
  {
   "cell_type": "markdown",
   "metadata": {},
   "source": [
    "# 7\n",
    "---"
   ]
  },
  {
   "cell_type": "markdown",
   "metadata": {},
   "source": [
    "### 7.1"
   ]
  },
  {
   "cell_type": "code",
   "execution_count": null,
   "metadata": {},
   "outputs": [],
   "source": []
  },
  {
   "cell_type": "markdown",
   "metadata": {},
   "source": [
    "### 7.2"
   ]
  },
  {
   "cell_type": "code",
   "execution_count": null,
   "metadata": {},
   "outputs": [],
   "source": []
  },
  {
   "cell_type": "markdown",
   "metadata": {},
   "source": [
    "### 7.3"
   ]
  },
  {
   "cell_type": "code",
   "execution_count": null,
   "metadata": {},
   "outputs": [],
   "source": []
  },
  {
   "cell_type": "markdown",
   "metadata": {},
   "source": [
    "### 7.4"
   ]
  },
  {
   "cell_type": "code",
   "execution_count": null,
   "metadata": {},
   "outputs": [],
   "source": []
  },
  {
   "cell_type": "markdown",
   "metadata": {},
   "source": [
    "### 7.5"
   ]
  },
  {
   "cell_type": "code",
   "execution_count": null,
   "metadata": {},
   "outputs": [],
   "source": []
  },
  {
   "cell_type": "markdown",
   "metadata": {},
   "source": [
    "# 8\n",
    "---"
   ]
  },
  {
   "cell_type": "markdown",
   "metadata": {},
   "source": [
    "### 8.1"
   ]
  },
  {
   "cell_type": "code",
   "execution_count": null,
   "metadata": {},
   "outputs": [],
   "source": []
  },
  {
   "cell_type": "markdown",
   "metadata": {},
   "source": [
    "### 8.2"
   ]
  },
  {
   "cell_type": "code",
   "execution_count": null,
   "metadata": {},
   "outputs": [],
   "source": []
  },
  {
   "cell_type": "markdown",
   "metadata": {},
   "source": [
    "### 8.3"
   ]
  },
  {
   "cell_type": "code",
   "execution_count": null,
   "metadata": {},
   "outputs": [],
   "source": []
  }
 ],
 "metadata": {
  "kernelspec": {
   "display_name": "Python 3",
   "language": "python",
   "name": "python3"
  },
  "language_info": {
   "codemirror_mode": {
    "name": "ipython",
    "version": 3
   },
   "file_extension": ".py",
   "mimetype": "text/x-python",
   "name": "python",
   "nbconvert_exporter": "python",
   "pygments_lexer": "ipython3",
   "version": "3.11.9"
  }
 },
 "nbformat": 4,
 "nbformat_minor": 2
}
